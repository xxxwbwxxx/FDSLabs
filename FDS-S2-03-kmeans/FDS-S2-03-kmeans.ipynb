{
 "cells": [
  {
   "cell_type": "markdown",
   "metadata": {},
   "source": [
    "# Inf2 - Foundations of Data Science\n",
    "## S2 Week 04: *K*-means"
   ]
  },
  {
   "cell_type": "markdown",
   "metadata": {},
   "source": [
    "**Learning outcomes:** \n",
    "In this lab you will implement the *K*-means algorithm from scratch.\n",
    "\n",
    "By the end of the lab you should be able to:\n",
    "- implement and explain the different steps involved in *K*-means,\n",
    "- explain what the benefits of clustering algorithms are,\n",
    "- explain what partitional clustering algorithms are,\n",
    "- and be able to use sklearn's *K*-means algorithm.\n",
    "\n",
    "**Research question:**\n",
    "\n",
    "In this lab we will use *K*-means on the same breast cancer patients data to see how many types of cancer can be distinguished.\n",
    "\n",
    "**Data set information:** \n",
    "\n",
    "The data set is adapted from [UCI](https://archive.ics.uci.edu/ml/datasets/Breast+Cancer+Wisconsin+(Diagnostic)). It contains patient information taken from patients with breast cancer. "
   ]
  },
  {
   "cell_type": "code",
   "execution_count": null,
   "metadata": {},
   "outputs": [],
   "source": [
    "import os\n",
    "import pandas as pd\n",
    "import numpy as np\n",
    "import matplotlib.pyplot as plt\n",
    "import seaborn as sns\n",
    "import math\n",
    "#Importing sklearn functions\n",
    "from sklearn.decomposition import PCA\n",
    "from sklearn.preprocessing import StandardScaler\n",
    "from sklearn.metrics.pairwise import pairwise_distances\n",
    "from sklearn.cluster import KMeans\n",
    "# Package to display the hints and soultions\n",
    "from common.show_solutions import show"
   ]
  },
  {
   "cell_type": "markdown",
   "metadata": {},
   "source": [
    "Clustering refers to a group of unsupervised learning algorithms, one of which is *K*-means. Each cluster is a group of data points in which points should be more similar to each other than they are to points in other clusters. Clustering is used to interpret and compress data. Interpretation can help to deepen our knowledge of the dataset. For example in medicine, we might be interested in particular clusters of symptoms of a disease. For example, researchers at King's College have identified six clusters of patterns of [Coronavirus symptoms over time](https://www.medrxiv.org/content/10.1101/2020.06.12.20129056v1.full.pdf). The cluster labels can then be used as independent variables with hospitalisation as dependent variable to build a model predicting the likelihood of hospitalisation given a cluster membership.\n",
    "\n",
    "*K*-means belongs to the group of *partitional clustering* algorithms, in which we partition the data into $K$ non-overlapping clusters; each data point can only belong to exactly one cluster. If you are interested in other clustering algorithms, such as *hierarchical* or *density based* clustering, we invite you to read the following [paper](https://link.springer.com/content/pdf/10.1007/s40745-015-0040-1.pdf), or take IAML in your honours years.\n",
    "\n",
    "Partitional clustering algorithms are non-deterministic, which means that each run can lead to different clusters even on the same data set. The main benefits of partitional clustering algorithms are their simplicity and low computational complexity. However, they are also only well suited for spherical clusters and do not cope well with complex shapes. \n",
    "\n",
    "The following pseudo code should help you remember from the lecture how the algorithm works:  "
   ]
  },
  {
   "cell_type": "markdown",
   "metadata": {},
   "source": [
    "```\n",
    "Choose K centroids (cluster centres) randomly\n",
    "while (centroids are not the same as in the previous iteration) do:\n",
    "    Assign each data point to its closest centroid\n",
    "    Compute new centroid based on the mean of all the points in the cluster\n",
    "end while\n",
    "```"
   ]
  },
  {
   "cell_type": "markdown",
   "metadata": {},
   "source": [
    "## A. Implementing *K*-means"
   ]
  },
  {
   "cell_type": "markdown",
   "metadata": {},
   "source": [
    "The first step is to initialize the centroids. The easiest way would be to just take the first $K$ data points. However, we also know that the result of *K*-means depends on the initial centroids, and thus a random assignment is beneficial to allow for more restarts.\n",
    "\n",
    "**Exercise 01:** \n",
    "- Create a function `initialize_centroids()`. It should take as parameters `data`, a numpy 2-dimensional array in which each row is an instance ($\\mathbf x_i$ in the lecture notes) and `n_clusters`, the number of clusters we are looking for ($K$ in the lecture notes). (Remark: we use `n_clusters` instead of `k_clusters`, as this is the notation used in sklearn and it won't confuse you once you use the sklearn functions.)\n",
    "- Create an array `random_data_points` with `n_clusters` random integers in the range from 0 to the length of the data set. \n",
    "\n",
    "- Finally, create a new numpy array by filtering from the data sets the rows corresponding to the randomly chosen numbers and return it."
   ]
  },
  {
   "cell_type": "code",
   "execution_count": null,
   "metadata": {},
   "outputs": [],
   "source": [
    "# Run this cell to be offered with hints and solution\n",
    "show(question=1)"
   ]
  },
  {
   "cell_type": "code",
   "execution_count": null,
   "metadata": {},
   "outputs": [],
   "source": [
    "# Your code\n"
   ]
  },
  {
   "cell_type": "markdown",
   "metadata": {},
   "source": [
    "The next step consists of assigning each data point to a cluster.\n",
    "\n",
    "**Exercise 02:**\n",
    "- Create a function `assign_clusters()`. It should take as parameters `data` and `centroids`.\n",
    "- Use `pairwise_distance(data, centroids, metric='euclidean')` from the sklearn library (which we have imported above) to compute the distance of each data point to each of the centroids. Look up the [documentation](https://scikit-learn.org/stable/modules/generated/sklearn.metrics.pairwise_distances.html) to understand how the function works, and what the return value is. Store the returned value in a new variable `euclidean_distance`.\n",
    "- Find the centroid that is closest to each data point, and store the array with the numbers representing the centroids for each data point in an array `assigned_clusters`.\n",
    "- Return `assigned_clusters`."
   ]
  },
  {
   "cell_type": "code",
   "execution_count": null,
   "metadata": {},
   "outputs": [],
   "source": [
    "# Run this cell to be offered with hints and solution\n",
    "show(question=2)"
   ]
  },
  {
   "cell_type": "code",
   "execution_count": null,
   "metadata": {},
   "outputs": [],
   "source": [
    "# Your code\n"
   ]
  },
  {
   "cell_type": "markdown",
   "metadata": {},
   "source": [
    "The last step to compute the optimal centroids is to update the centroids, based on their assignment of the previous iteration.\n",
    "\n",
    "**Exercise 03:**\n",
    "- Create a function `update_centroids()`. It should take as parameters `data`, `n_clusters` and `assigned_clusters`.\n",
    "- For each cluster, compute the mean for each feature of all the data points in the cluster. You can use a loop or a list comprehension, and remember the numpy `mean()` function - but make sure you get the `axis` argument right.\n",
    "- Create a 2-dimensional array `centroids` such that each row in the matrix contains the list of means computed for each cluster.\n",
    "- Return the `centroids` as a 2-dimensional array, with each row containing one centroid."
   ]
  },
  {
   "cell_type": "code",
   "execution_count": null,
   "metadata": {},
   "outputs": [],
   "source": [
    "# Run this cell to be offered with hints and solution\n",
    "show(question=3)"
   ]
  },
  {
   "cell_type": "code",
   "execution_count": null,
   "metadata": {},
   "outputs": [],
   "source": [
    "# Your code\n"
   ]
  },
  {
   "cell_type": "markdown",
   "metadata": {},
   "source": [
    "Now we have all the auxiliary functions that we need to finish to write our *K*-means algorithm. We are going to structure the code in a similar way to sklearn.\n",
    "\n",
    "**Remark:** For every model sklearn implements there is a class with  `fit()` and `predict()` methods. The `fit()` method trains the model and the `predict()` method allows us to determine the classification of a seen or unseen data point. The term \"predict\" is perhaps a bit misleading in the case of *K*-means, where `.predict()` means \"determine the cluster of a data point\".\n",
    "\n",
    "**Exercise 04:**\n",
    "We have prepared a skeleton for a class called `K_Means`. We have also already prepared the constructor. Your job is now to add two methods: `fit()` and `predict()`.\n",
    "- For the `fit()` method, look at the pseudo code above, and use the three functions you have coded previously to fit the model. Store the final centroids to `self.centroids`.\n",
    "- The `predict()` method should take only one observation as input and compute to which centroid the distance is minimal, and then return the value of the centroid. (Careful: It will probably return an array with just one entry, but it should just return an integer.) "
   ]
  },
  {
   "cell_type": "code",
   "execution_count": null,
   "metadata": {},
   "outputs": [],
   "source": [
    "# Run this cell to be offered with hints and solution\n",
    "show(question=4)"
   ]
  },
  {
   "cell_type": "code",
   "execution_count": null,
   "metadata": {},
   "outputs": [],
   "source": [
    "class K_Means:\n",
    "    def __init__(self, n_clusters=2):\n",
    "        self.n_clusters=n_clusters\n",
    "# Your code        \n"
   ]
  },
  {
   "cell_type": "markdown",
   "metadata": {},
   "source": [
    "**Discussion:** Before we apply the *K*-means algorithm, it is a good idea to standardize your data. Try to remember with your lab partner why standardization is important."
   ]
  },
  {
   "cell_type": "markdown",
   "metadata": {},
   "source": [
    "Your answer:"
   ]
  },
  {
   "cell_type": "markdown",
   "metadata": {},
   "source": [
    "## B. Applying *K*-means"
   ]
  },
  {
   "cell_type": "markdown",
   "metadata": {},
   "source": [
    "We are given a data set of breast cancer patients. Our aim is to see if we can cluster the breast cancer data into two categories.\n",
    "\n",
    "**Exercise 05:** \n",
    "- Load the `breast_cancer.csv` data set from `datasets`. We have preprocessed the data set for you. All unnecessary columns and rows with NaN values have been removed.\n",
    "- We need to standardize the `breast_cancer` data. We can either\n",
    "  - use the `standardize()` function from the PCA lab or \n",
    "  - use the sklearn `StandardScaler()` class. Here is the [documentation](https://scikit-learn.org/stable/modules/generated/sklearn.preprocessing.StandardScaler.html).\n",
    "- Display your standardized data sets."
   ]
  },
  {
   "cell_type": "code",
   "execution_count": null,
   "metadata": {},
   "outputs": [],
   "source": [
    "# Run this cell to be offered with hints and solution\n",
    "show(question=5)"
   ]
  },
  {
   "cell_type": "code",
   "execution_count": null,
   "metadata": {},
   "outputs": [],
   "source": [
    "# Your code\n"
   ]
  },
  {
   "cell_type": "markdown",
   "metadata": {},
   "source": [
    "Let us now run our *K*-means algorithm on our data set.\n",
    "\n",
    "**Exercise 06:**\n",
    "- Instantiate a `K_Means` object with `n_clusters=2` parameters.\n",
    "- Fit the model with your standardized data set.\n",
    "- Print the centroids.\n",
    "- Use [sklearn's native *K*-means class](https://scikit-learn.org/stable/modules/generated/sklearn.cluster.KMeans.html) to compute the centroids, and print them out. Do you get similar results?"
   ]
  },
  {
   "cell_type": "code",
   "execution_count": null,
   "metadata": {},
   "outputs": [],
   "source": [
    "# Run this cell to be offered with hints and solution\n",
    "show(question=6)"
   ]
  },
  {
   "cell_type": "code",
   "execution_count": null,
   "metadata": {},
   "outputs": [],
   "source": [
    "# Your code\n"
   ]
  },
  {
   "cell_type": "markdown",
   "metadata": {},
   "source": [
    "**Remark:** If you run the code several times, you might get a slightly different result every time."
   ]
  },
  {
   "cell_type": "markdown",
   "metadata": {},
   "source": [
    "**Exercise 07:**\n",
    "\n",
    "In some cases, if the data set is very large the optimization can take a very long time. Add an additional argument to your class `K_Means` called `max_iter` in the object constructor with a default value 100. Add an extra iteration variable to your loop and a condition to the loop that breaks the loop once the iterator is greater than `max_iter`."
   ]
  },
  {
   "cell_type": "code",
   "execution_count": null,
   "metadata": {},
   "outputs": [],
   "source": [
    "# Run this cell to be offered with hints and solution\n",
    "show(question=7)"
   ]
  },
  {
   "cell_type": "code",
   "execution_count": null,
   "metadata": {},
   "outputs": [],
   "source": [
    "# Your code\n"
   ]
  },
  {
   "cell_type": "markdown",
   "metadata": {},
   "source": [
    "**Exercise 08:**\n",
    "\n",
    "Finally, we would like to plot the centroids. However, our data is high-dimensional. By now you should think \"Too many dimensions? -> PCA\".\n",
    "\n",
    "- Apply PCA to your standardized dataset - we suggest you use 3 components, but you may wish to look at how much variance is explained by each component using `pca.explained_variance_ratio_`\n",
    "- Apply *K*-means to the PCA scores, using `max_iter = 5`. (Run it several times to see whether the centroids remain the same.)\n",
    "- Plot the scatter plot of the first two dimensions, colouring the two clusters differently.\n",
    "- Plot the two centroids with different markers.\n",
    "- Repeat the exercise with `max_iter=100`. (Run it several times to see, whether this time the centroids have converged.) "
   ]
  },
  {
   "cell_type": "code",
   "execution_count": null,
   "metadata": {},
   "outputs": [],
   "source": [
    "# Run this cell to be offered with hints and solution\n",
    "show(question=8)"
   ]
  },
  {
   "cell_type": "code",
   "execution_count": null,
   "metadata": {},
   "outputs": [],
   "source": [
    "# Your code\n"
   ]
  },
  {
   "cell_type": "code",
   "execution_count": null,
   "metadata": {},
   "outputs": [],
   "source": [
    "# Your code (for max_iter=100)\n"
   ]
  },
  {
   "cell_type": "markdown",
   "metadata": {},
   "source": [
    "It looks like there are two reasonably well-separated clusters. Let's compare how well they match the benign and malignant clusters from the dataset from the PCA lab.\n",
    "\n",
    "**Exercise 09:**\n",
    "\n",
    "- Load the `breast_cancer_diagnosis.csv` dataset, which in addition to the previous dimensions, contains the diagnosis `M` (malignant) or `B` (benign).\n",
    "- Plot the scatter plot of the first two dimensions of the PCA scores from the last exercise, but this time colouring the benign and malignant classes differently."
   ]
  },
  {
   "cell_type": "code",
   "execution_count": null,
   "metadata": {},
   "outputs": [],
   "source": [
    "# Run this cell to be offered with hints and solution\n",
    "show(question=9)"
   ]
  },
  {
   "cell_type": "code",
   "execution_count": null,
   "metadata": {},
   "outputs": [],
   "source": [
    "# Your code\n"
   ]
  },
  {
   "cell_type": "markdown",
   "metadata": {},
   "source": [
    "**Exercise 10:**\n",
    "- Count the numbers of benign and malignant patients in each cluster.\n",
    "- Which cluster best corresponds to each diagnosis?"
   ]
  },
  {
   "cell_type": "code",
   "execution_count": null,
   "metadata": {},
   "outputs": [],
   "source": [
    "# Run this cell to be offered with hints and solution\n",
    "show(question=10)"
   ]
  },
  {
   "cell_type": "code",
   "execution_count": null,
   "metadata": {},
   "outputs": [],
   "source": [
    "# Your code"
   ]
  },
  {
   "cell_type": "markdown",
   "metadata": {},
   "source": [
    "**Discussion:**\n",
    "\n",
    "You have learned a lot in the labs so far, including:\n",
    "\n",
    "- Cleaning your data.\n",
    "- Plotting your data.\n",
    "- Applying PCA and *K*-means.\n",
    "\n",
    "And you have used all those skills in this lab. However, there are a couple of things you should think about. Discuss the following points with your lab partner.\n",
    "\n",
    "- How could you prevent your model from overfitting to the data?\n",
    "- We have already discussed `max_iter` as one option to stop the optimization if it takes too long. What is a different criterion based on which we could stop the optimization?"
   ]
  },
  {
   "cell_type": "code",
   "execution_count": null,
   "metadata": {},
   "outputs": [],
   "source": [
    "# Run this cell to be offered with hints and solution\n",
    "show(question=10.1)"
   ]
  },
  {
   "cell_type": "markdown",
   "metadata": {},
   "source": [
    "Your answer:"
   ]
  }
 ],
 "metadata": {
  "anaconda-cloud": {},
  "kernelspec": {
   "display_name": "Python 3 (ipykernel)",
   "language": "python",
   "name": "python3"
  },
  "language_info": {
   "codemirror_mode": {
    "name": "ipython",
    "version": 3
   },
   "file_extension": ".py",
   "mimetype": "text/x-python",
   "name": "python",
   "nbconvert_exporter": "python",
   "pygments_lexer": "ipython3",
   "version": "3.9.13"
  }
 },
 "nbformat": 4,
 "nbformat_minor": 4
}
